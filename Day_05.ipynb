{
  "nbformat": 4,
  "nbformat_minor": 0,
  "metadata": {
    "colab": {
      "provenance": [],
      "authorship_tag": "ABX9TyMNtiV/tRTpvsAas+31CaC1",
      "include_colab_link": true
    },
    "kernelspec": {
      "name": "python3",
      "display_name": "Python 3"
    },
    "language_info": {
      "name": "python"
    }
  },
  "cells": [
    {
      "cell_type": "markdown",
      "metadata": {
        "id": "view-in-github",
        "colab_type": "text"
      },
      "source": [
        "<a href=\"https://colab.research.google.com/github/Kavithakaikondan/pythonlearning/blob/main/Day_05.ipynb\" target=\"_parent\"><img src=\"https://colab.research.google.com/assets/colab-badge.svg\" alt=\"Open In Colab\"/></a>"
      ]
    },
    {
      "cell_type": "code",
      "execution_count": null,
      "metadata": {
        "id": "1UMwgqtMugZk"
      },
      "outputs": [],
      "source": [
        "# Lists in Python\n",
        "# A List means a place where you can store information."
      ]
    },
    {
      "cell_type": "markdown",
      "source": [
        "# **Creating List**"
      ],
      "metadata": {
        "id": "yZhOqxZ1C8IH"
      }
    },
    {
      "cell_type": "code",
      "source": [
        "items = []"
      ],
      "metadata": {
        "id": "6fgas_Ab16u5"
      },
      "execution_count": 1,
      "outputs": []
    },
    {
      "cell_type": "code",
      "source": [
        "items = [\"speaker\", \"mic\", \"mobile\", \"Laptop\"]"
      ],
      "metadata": {
        "id": "DfoX3rDi16xz"
      },
      "execution_count": 2,
      "outputs": []
    },
    {
      "cell_type": "markdown",
      "source": [
        "# **Accessing Elements**"
      ],
      "metadata": {
        "id": "F0uHzcMWENro"
      }
    },
    {
      "cell_type": "code",
      "source": [
        "items[2]"
      ],
      "metadata": {
        "colab": {
          "base_uri": "https://localhost:8080/",
          "height": 35
        },
        "id": "wIeu2kcz160s",
        "outputId": "f1917caa-659a-4669-a994-a44f4b51393e"
      },
      "execution_count": 3,
      "outputs": [
        {
          "output_type": "execute_result",
          "data": {
            "text/plain": [
              "'mobile'"
            ],
            "application/vnd.google.colaboratory.intrinsic+json": {
              "type": "string"
            }
          },
          "metadata": {},
          "execution_count": 3
        }
      ]
    },
    {
      "cell_type": "code",
      "source": [
        "print(items[2])"
      ],
      "metadata": {
        "colab": {
          "base_uri": "https://localhost:8080/"
        },
        "id": "ux-dvtmt163i",
        "outputId": "17a579e5-a31c-48bb-8712-afa28a1e4801"
      },
      "execution_count": 4,
      "outputs": [
        {
          "output_type": "stream",
          "name": "stdout",
          "text": [
            "mobile\n"
          ]
        }
      ]
    },
    {
      "cell_type": "markdown",
      "source": [
        "# **Negative Indexing**"
      ],
      "metadata": {
        "id": "EaJRYsZlFHie"
      }
    },
    {
      "cell_type": "code",
      "source": [
        "items[-1]"
      ],
      "metadata": {
        "colab": {
          "base_uri": "https://localhost:8080/",
          "height": 35
        },
        "id": "BC1lL3x-166L",
        "outputId": "49e6239d-8599-4b63-9f39-7c42d756c4ac"
      },
      "execution_count": 9,
      "outputs": [
        {
          "output_type": "execute_result",
          "data": {
            "text/plain": [
              "'Laptop'"
            ],
            "application/vnd.google.colaboratory.intrinsic+json": {
              "type": "string"
            }
          },
          "metadata": {},
          "execution_count": 9
        }
      ]
    },
    {
      "cell_type": "markdown",
      "source": [
        "# **Slicing a List**"
      ],
      "metadata": {
        "id": "Ni2d2aS5Rcby"
      }
    },
    {
      "cell_type": "code",
      "metadata": {
        "colab": {
          "base_uri": "https://localhost:8080/"
        },
        "id": "b374ee50",
        "outputId": "436e5e2f-b23b-49b7-f4bf-8620cbd63348"
      },
      "source": [
        "# Ensure the items list is defined\n",
        "items = [\"speaker\", \"mic\", \"mobile\", \"Laptop\"]\n",
        "\n",
        "# Slicing the list\n",
        "print(items[0:2])"
      ],
      "execution_count": 3,
      "outputs": [
        {
          "output_type": "stream",
          "name": "stdout",
          "text": [
            "['speaker', 'mic']\n"
          ]
        }
      ]
    },
    {
      "cell_type": "code",
      "source": [
        "items[0:2]"
      ],
      "metadata": {
        "colab": {
          "base_uri": "https://localhost:8080/"
        },
        "id": "r8xBtRWZSC_x",
        "outputId": "d4c3ad4d-ef55-460e-a896-3bdd68d5633a"
      },
      "execution_count": 4,
      "outputs": [
        {
          "output_type": "execute_result",
          "data": {
            "text/plain": [
              "['speaker', 'mic']"
            ]
          },
          "metadata": {},
          "execution_count": 4
        }
      ]
    },
    {
      "cell_type": "code",
      "source": [
        "items[0:3]"
      ],
      "metadata": {
        "colab": {
          "base_uri": "https://localhost:8080/"
        },
        "id": "c7V01XumSapc",
        "outputId": "11a1e74b-7568-4d3c-828f-aa42d207075e"
      },
      "execution_count": 5,
      "outputs": [
        {
          "output_type": "execute_result",
          "data": {
            "text/plain": [
              "['speaker', 'mic', 'mobile']"
            ]
          },
          "metadata": {},
          "execution_count": 5
        }
      ]
    },
    {
      "cell_type": "code",
      "source": [
        "items"
      ],
      "metadata": {
        "colab": {
          "base_uri": "https://localhost:8080/"
        },
        "id": "tBgintSFSasA",
        "outputId": "8bb31925-2b17-4908-d5aa-8de6020b4bb9"
      },
      "execution_count": 7,
      "outputs": [
        {
          "output_type": "execute_result",
          "data": {
            "text/plain": [
              "['speaker', 'mic', 'mobile', 'Laptop']"
            ]
          },
          "metadata": {},
          "execution_count": 7
        }
      ]
    },
    {
      "cell_type": "code",
      "source": [
        "items[2:4]"
      ],
      "metadata": {
        "colab": {
          "base_uri": "https://localhost:8080/"
        },
        "id": "urN7HuYqSau8",
        "outputId": "c60110e5-b2ae-4e54-ea70-e3769ff5cd61"
      },
      "execution_count": 8,
      "outputs": [
        {
          "output_type": "execute_result",
          "data": {
            "text/plain": [
              "['mobile', 'Laptop']"
            ]
          },
          "metadata": {},
          "execution_count": 8
        }
      ]
    },
    {
      "cell_type": "code",
      "source": [
        "items[2:3]"
      ],
      "metadata": {
        "colab": {
          "base_uri": "https://localhost:8080/"
        },
        "id": "zMaXCtNUSaxR",
        "outputId": "36e84b44-1277-4e4c-9bda-477a896e15b6"
      },
      "execution_count": 9,
      "outputs": [
        {
          "output_type": "execute_result",
          "data": {
            "text/plain": [
              "['mobile']"
            ]
          },
          "metadata": {},
          "execution_count": 9
        }
      ]
    },
    {
      "cell_type": "code",
      "source": [
        "items[:3]"
      ],
      "metadata": {
        "colab": {
          "base_uri": "https://localhost:8080/"
        },
        "id": "XoB1RPNNSa0C",
        "outputId": "4f37c096-7619-4404-d983-89b51cb7d588"
      },
      "execution_count": 10,
      "outputs": [
        {
          "output_type": "execute_result",
          "data": {
            "text/plain": [
              "['speaker', 'mic', 'mobile']"
            ]
          },
          "metadata": {},
          "execution_count": 10
        }
      ]
    },
    {
      "cell_type": "code",
      "source": [
        "items[2:]"
      ],
      "metadata": {
        "colab": {
          "base_uri": "https://localhost:8080/"
        },
        "id": "E_w32qFVSa3h",
        "outputId": "18ff2e76-5011-4781-f8ed-915f94eab686"
      },
      "execution_count": 11,
      "outputs": [
        {
          "output_type": "execute_result",
          "data": {
            "text/plain": [
              "['mobile', 'Laptop']"
            ]
          },
          "metadata": {},
          "execution_count": 11
        }
      ]
    },
    {
      "cell_type": "markdown",
      "source": [
        "# **Modifying Elements in a List**"
      ],
      "metadata": {
        "id": "F5M60XcATctd"
      }
    },
    {
      "cell_type": "code",
      "source": [
        "items"
      ],
      "metadata": {
        "colab": {
          "base_uri": "https://localhost:8080/"
        },
        "id": "YomQHj8hTgoV",
        "outputId": "ab7492a1-dcef-430e-f17a-0eb5383f3d84"
      },
      "execution_count": 12,
      "outputs": [
        {
          "output_type": "execute_result",
          "data": {
            "text/plain": [
              "['speaker', 'mic', 'mobile', 'Laptop']"
            ]
          },
          "metadata": {},
          "execution_count": 12
        }
      ]
    },
    {
      "cell_type": "code",
      "source": [
        "items[3] = \"pC\""
      ],
      "metadata": {
        "id": "Q2JkWxowT2rE"
      },
      "execution_count": 16,
      "outputs": []
    },
    {
      "cell_type": "code",
      "source": [
        "items"
      ],
      "metadata": {
        "colab": {
          "base_uri": "https://localhost:8080/"
        },
        "id": "hwB-jVloT2nn",
        "outputId": "9b36174f-2690-418f-b7e1-7e26c433a0c0"
      },
      "execution_count": 17,
      "outputs": [
        {
          "output_type": "execute_result",
          "data": {
            "text/plain": [
              "['speaker', 'mic', 'mobile', 'pC']"
            ]
          },
          "metadata": {},
          "execution_count": 17
        }
      ]
    },
    {
      "cell_type": "markdown",
      "source": [
        "# **Adding Elements to a List**"
      ],
      "metadata": {
        "id": "TQEwzKi-UYhR"
      }
    },
    {
      "cell_type": "code",
      "source": [
        "items"
      ],
      "metadata": {
        "colab": {
          "base_uri": "https://localhost:8080/"
        },
        "id": "uUVyAKeYT2kl",
        "outputId": "180cf7f8-50dc-488f-9c33-d472fb55df1d"
      },
      "execution_count": 19,
      "outputs": [
        {
          "output_type": "execute_result",
          "data": {
            "text/plain": [
              "['speaker', 'mic', 'mobile', 'pC']"
            ]
          },
          "metadata": {},
          "execution_count": 19
        }
      ]
    },
    {
      "cell_type": "code",
      "source": [
        "items.append(\"charger\")"
      ],
      "metadata": {
        "id": "qYRQ3Jo3T2hg"
      },
      "execution_count": 20,
      "outputs": []
    },
    {
      "cell_type": "code",
      "source": [
        "items"
      ],
      "metadata": {
        "colab": {
          "base_uri": "https://localhost:8080/"
        },
        "id": "olKCn9nzT2dy",
        "outputId": "8f6e7a46-65c2-4e74-b9d7-9de19cab1fd1"
      },
      "execution_count": 21,
      "outputs": [
        {
          "output_type": "execute_result",
          "data": {
            "text/plain": [
              "['speaker', 'mic', 'mobile', 'pC', 'charger']"
            ]
          },
          "metadata": {},
          "execution_count": 21
        }
      ]
    },
    {
      "cell_type": "code",
      "source": [
        "items.append(\"camera\")"
      ],
      "metadata": {
        "id": "okm2UJdoT2Td"
      },
      "execution_count": 22,
      "outputs": []
    },
    {
      "cell_type": "code",
      "source": [
        "items"
      ],
      "metadata": {
        "colab": {
          "base_uri": "https://localhost:8080/"
        },
        "id": "YG8VvDnAT2CB",
        "outputId": "20d15e0f-57fc-4ec2-ac9f-025d466a9b89"
      },
      "execution_count": 23,
      "outputs": [
        {
          "output_type": "execute_result",
          "data": {
            "text/plain": [
              "['speaker', 'mic', 'mobile', 'pC', 'charger', 'camera']"
            ]
          },
          "metadata": {},
          "execution_count": 23
        }
      ]
    },
    {
      "cell_type": "markdown",
      "source": [
        "# **Remove Elements**"
      ],
      "metadata": {
        "id": "K6WNhYSyVIgD"
      }
    },
    {
      "cell_type": "code",
      "source": [
        "items.remove(\"camera\")"
      ],
      "metadata": {
        "id": "ERTHyytrVMka"
      },
      "execution_count": 24,
      "outputs": []
    },
    {
      "cell_type": "code",
      "source": [
        "items"
      ],
      "metadata": {
        "colab": {
          "base_uri": "https://localhost:8080/"
        },
        "id": "LPQJS8n1VNne",
        "outputId": "226b4efa-ff84-474d-d393-48713a54ed8a"
      },
      "execution_count": 25,
      "outputs": [
        {
          "output_type": "execute_result",
          "data": {
            "text/plain": [
              "['speaker', 'mic', 'mobile', 'pC', 'charger']"
            ]
          },
          "metadata": {},
          "execution_count": 25
        }
      ]
    },
    {
      "cell_type": "code",
      "source": [
        "del items[-1]"
      ],
      "metadata": {
        "id": "aI-lgYePVNee"
      },
      "execution_count": 26,
      "outputs": []
    },
    {
      "cell_type": "code",
      "source": [
        "items"
      ],
      "metadata": {
        "colab": {
          "base_uri": "https://localhost:8080/"
        },
        "id": "H_9pUH9rVNQd",
        "outputId": "42191723-b754-4cc5-90da-ba293b54bdcc"
      },
      "execution_count": 27,
      "outputs": [
        {
          "output_type": "execute_result",
          "data": {
            "text/plain": [
              "['speaker', 'mic', 'mobile', 'pC']"
            ]
          },
          "metadata": {},
          "execution_count": 27
        }
      ]
    },
    {
      "cell_type": "code",
      "source": [
        "items.clear()"
      ],
      "metadata": {
        "id": "zpDt1oTQfD1n"
      },
      "execution_count": 28,
      "outputs": []
    },
    {
      "cell_type": "code",
      "source": [
        "items"
      ],
      "metadata": {
        "colab": {
          "base_uri": "https://localhost:8080/"
        },
        "id": "eVcCwcGHfDq2",
        "outputId": "c9e0d3a1-e665-4f42-ea4d-f9f14fecc2b2"
      },
      "execution_count": 29,
      "outputs": [
        {
          "output_type": "execute_result",
          "data": {
            "text/plain": [
              "[]"
            ]
          },
          "metadata": {},
          "execution_count": 29
        }
      ]
    },
    {
      "cell_type": "code",
      "source": [
        "items=['speaker', 'mic', 'mobile', 'pC', 'charger']"
      ],
      "metadata": {
        "id": "IISoUarTfDX-"
      },
      "execution_count": 30,
      "outputs": []
    },
    {
      "cell_type": "code",
      "source": [
        "items"
      ],
      "metadata": {
        "colab": {
          "base_uri": "https://localhost:8080/"
        },
        "id": "aT1CubJ5fY70",
        "outputId": "acbac2c6-94bf-460f-8648-1d655fc0cdef"
      },
      "execution_count": 31,
      "outputs": [
        {
          "output_type": "execute_result",
          "data": {
            "text/plain": [
              "['speaker', 'mic', 'mobile', 'pC', 'charger']"
            ]
          },
          "metadata": {},
          "execution_count": 31
        }
      ]
    },
    {
      "cell_type": "markdown",
      "source": [
        "# **Checking for Existense**"
      ],
      "metadata": {
        "id": "2eC84qk2fnOT"
      }
    },
    {
      "cell_type": "code",
      "source": [
        "# are earbuds in the list ?\n",
        "print(\"earbuds\" in items)"
      ],
      "metadata": {
        "colab": {
          "base_uri": "https://localhost:8080/"
        },
        "id": "4Yhj_UTdfY-i",
        "outputId": "a9cad021-74b4-4199-c2e7-ec3507b7f356"
      },
      "execution_count": 33,
      "outputs": [
        {
          "output_type": "stream",
          "name": "stdout",
          "text": [
            "False\n"
          ]
        }
      ]
    },
    {
      "cell_type": "code",
      "source": [
        "print(\"mic\" in items)"
      ],
      "metadata": {
        "colab": {
          "base_uri": "https://localhost:8080/"
        },
        "id": "T8j5GkvNfZBU",
        "outputId": "83a592a8-49b3-487c-f37d-fbfa1c1571fc"
      },
      "execution_count": 34,
      "outputs": [
        {
          "output_type": "stream",
          "name": "stdout",
          "text": [
            "True\n"
          ]
        }
      ]
    },
    {
      "cell_type": "markdown",
      "source": [
        "# **Length of a List**"
      ],
      "metadata": {
        "id": "XDjTKk0Fgvaf"
      }
    },
    {
      "cell_type": "code",
      "source": [
        "items"
      ],
      "metadata": {
        "colab": {
          "base_uri": "https://localhost:8080/"
        },
        "id": "njONfznqfZD3",
        "outputId": "9e49f4ba-59ba-462b-e421-ba0aaf9f50b2"
      },
      "execution_count": 35,
      "outputs": [
        {
          "output_type": "execute_result",
          "data": {
            "text/plain": [
              "['speaker', 'mic', 'mobile', 'pC', 'charger']"
            ]
          },
          "metadata": {},
          "execution_count": 35
        }
      ]
    },
    {
      "cell_type": "code",
      "source": [
        "len(items)"
      ],
      "metadata": {
        "colab": {
          "base_uri": "https://localhost:8080/"
        },
        "id": "OaSMlzBSfZGO",
        "outputId": "ee6c9b37-f7d7-48a0-8341-3764a7b1e93c"
      },
      "execution_count": 36,
      "outputs": [
        {
          "output_type": "execute_result",
          "data": {
            "text/plain": [
              "5"
            ]
          },
          "metadata": {},
          "execution_count": 36
        }
      ]
    },
    {
      "cell_type": "markdown",
      "source": [
        "# **List Comprehension**"
      ],
      "metadata": {
        "id": "aq9fY7WghELy"
      }
    },
    {
      "cell_type": "code",
      "source": [
        "# writing loops inside the list.\n",
        "# two ways for doing it.\n",
        "# One is for loop\n",
        "# second one is as shown below\n",
        "# In List Comprehension, second one is faster than first one (for loop)"
      ],
      "metadata": {
        "id": "j9WuJcBzfZJl"
      },
      "execution_count": 37,
      "outputs": []
    },
    {
      "cell_type": "code",
      "source": [
        "scores=[90,70,80,95]"
      ],
      "metadata": {
        "id": "zjoKHu5hhJwA"
      },
      "execution_count": 39,
      "outputs": []
    },
    {
      "cell_type": "code",
      "source": [
        "for i in scores:\n",
        "  print(i/2)"
      ],
      "metadata": {
        "colab": {
          "base_uri": "https://localhost:8080/"
        },
        "id": "StalHV7chJ49",
        "outputId": "677b90db-10a4-4b79-e7bc-831caf1aa340"
      },
      "execution_count": 40,
      "outputs": [
        {
          "output_type": "stream",
          "name": "stdout",
          "text": [
            "45.0\n",
            "35.0\n",
            "40.0\n",
            "47.5\n"
          ]
        }
      ]
    },
    {
      "cell_type": "code",
      "source": [
        "[i/2 for i in scores]"
      ],
      "metadata": {
        "colab": {
          "base_uri": "https://localhost:8080/"
        },
        "id": "l-isqcL3hKBD",
        "outputId": "3767565a-3d67-41e4-aa3e-8dd02aa496fd"
      },
      "execution_count": 42,
      "outputs": [
        {
          "output_type": "execute_result",
          "data": {
            "text/plain": [
              "[45.0, 35.0, 40.0, 47.5]"
            ]
          },
          "metadata": {},
          "execution_count": 42
        }
      ]
    }
  ]
}