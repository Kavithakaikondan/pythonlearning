{
  "nbformat": 4,
  "nbformat_minor": 0,
  "metadata": {
    "colab": {
      "provenance": [],
      "authorship_tag": "ABX9TyM7B4BISbVd2K5VCcdXB2e3",
      "include_colab_link": true
    },
    "kernelspec": {
      "name": "python3",
      "display_name": "Python 3"
    },
    "language_info": {
      "name": "python"
    }
  },
  "cells": [
    {
      "cell_type": "markdown",
      "metadata": {
        "id": "view-in-github",
        "colab_type": "text"
      },
      "source": [
        "<a href=\"https://colab.research.google.com/github/Kavithakaikondan/pythonlearning/blob/main/Day_03.ipynb\" target=\"_parent\"><img src=\"https://colab.research.google.com/assets/colab-badge.svg\" alt=\"Open In Colab\"/></a>"
      ]
    },
    {
      "cell_type": "code",
      "execution_count": 1,
      "metadata": {
        "id": "LYf4rSpza0KU"
      },
      "outputs": [],
      "source": [
        "ticket_price = 90\n",
        "wallet_size = 100"
      ]
    },
    {
      "cell_type": "code",
      "source": [
        "# ctrl + Enter => runfile\n",
        "# Comparision <, >, <=, >=, ==, !="
      ],
      "metadata": {
        "id": "dBj5hbmmdj9W"
      },
      "execution_count": null,
      "outputs": []
    },
    {
      "cell_type": "code",
      "source": [
        "if(ticket_price <= wallet_size):\n",
        "  print(\"Hurrah, You can go to the Movie !\")\n",
        "else:\n",
        "  print(\"Sad, You cannot go to the Movie\")"
      ],
      "metadata": {
        "colab": {
          "base_uri": "https://localhost:8080/"
        },
        "id": "VcS6m7MKdkGu",
        "outputId": "17a0aab6-e6a1-47e4-afd0-a935b796e499"
      },
      "execution_count": 4,
      "outputs": [
        {
          "output_type": "stream",
          "name": "stdout",
          "text": [
            "Hurrah, You can go to the Movie !\n"
          ]
        }
      ]
    },
    {
      "cell_type": "code",
      "source": [
        "# if(condition):\n",
        "#   todo\n",
        "# else:\n",
        "#   todo"
      ],
      "metadata": {
        "id": "gBdZhGXZdkKW"
      },
      "execution_count": null,
      "outputs": []
    },
    {
      "cell_type": "code",
      "source": [
        "marks = 85\n",
        "\n",
        "# 90+ A+\n",
        "# 80+ A\n",
        "#70+  B+\n",
        "#60+  B\n",
        "#60- Fail\n",
        "\n",
        "#if else elif"
      ],
      "metadata": {
        "id": "7z2AIccrdkNh"
      },
      "execution_count": null,
      "outputs": []
    },
    {
      "cell_type": "code",
      "source": [
        "marks = 36\n",
        "\n",
        "if(marks >= 90):\n",
        "  print(\"A+\")\n",
        "elif(marks >= 80):\n",
        "  print(\"A\")\n",
        "elif(marks >= 70):\n",
        "  print(\"B+\")\n",
        "elif(marks >=60):\n",
        "  print(\"B\")\n",
        "else:\n",
        "  print(\"Fail\")"
      ],
      "metadata": {
        "colab": {
          "base_uri": "https://localhost:8080/"
        },
        "id": "45dNHQkNdkRI",
        "outputId": "f13198a2-f7ad-4e0f-cea0-9dd5057c3dcb"
      },
      "execution_count": 9,
      "outputs": [
        {
          "output_type": "stream",
          "name": "stdout",
          "text": [
            "Fail\n"
          ]
        }
      ]
    },
    {
      "cell_type": "code",
      "source": [],
      "metadata": {
        "id": "1j5_Vu0FhHzo"
      },
      "execution_count": null,
      "outputs": []
    },
    {
      "cell_type": "code",
      "source": [],
      "metadata": {
        "id": "3o9AuBXRhHqF"
      },
      "execution_count": null,
      "outputs": []
    },
    {
      "cell_type": "code",
      "source": [],
      "metadata": {
        "id": "12Mh1j3xhHck"
      },
      "execution_count": null,
      "outputs": []
    }
  ]
}