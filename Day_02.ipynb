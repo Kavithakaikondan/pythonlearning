{
  "nbformat": 4,
  "nbformat_minor": 0,
  "metadata": {
    "colab": {
      "provenance": [],
      "authorship_tag": "ABX9TyOv928Q/GblE/TEhx9z4iVm",
      "include_colab_link": true
    },
    "kernelspec": {
      "name": "python3",
      "display_name": "Python 3"
    },
    "language_info": {
      "name": "python"
    }
  },
  "cells": [
    {
      "cell_type": "markdown",
      "metadata": {
        "id": "view-in-github",
        "colab_type": "text"
      },
      "source": [
        "<a href=\"https://colab.research.google.com/github/Kavithakaikondan/pythonlearning/blob/main/Day_02.ipynb\" target=\"_parent\"><img src=\"https://colab.research.google.com/assets/colab-badge.svg\" alt=\"Open In Colab\"/></a>"
      ]
    },
    {
      "cell_type": "code",
      "execution_count": null,
      "metadata": {
        "id": "oX7GbgP7LfIz"
      },
      "outputs": [],
      "source": [
        "# DataTypes - int float str\n",
        "# int - integer => -inf,...,-1,0,1,...inf\n",
        "# float - decimal => -0.1, 0.01, 10.3\n",
        "# str - characters => \"a\", 'a', \"bus\", \"im in a bus\", \" \", \"#\", \"@\""
      ]
    },
    {
      "cell_type": "code",
      "source": [
        "#  Variables"
      ],
      "metadata": {
        "id": "Za-r1y2NUvPi"
      },
      "execution_count": null,
      "outputs": []
    },
    {
      "cell_type": "code",
      "source": [
        "virat =60\n",
        "rohit = 30\n",
        "rahul = 10"
      ],
      "metadata": {
        "id": "jj2bieMDXMC7"
      },
      "execution_count": null,
      "outputs": []
    },
    {
      "cell_type": "code",
      "source": [
        "virat+rohit+rahul"
      ],
      "metadata": {
        "colab": {
          "base_uri": "https://localhost:8080/"
        },
        "id": "AAbia2PgXjr8",
        "outputId": "cb762169-5705-4509-d038-22d08334b5f1"
      },
      "execution_count": null,
      "outputs": [
        {
          "output_type": "execute_result",
          "data": {
            "text/plain": [
              "100"
            ]
          },
          "metadata": {},
          "execution_count": 13
        }
      ]
    },
    {
      "cell_type": "code",
      "source": [
        "x=1\n",
        "y=2\n",
        "z=3"
      ],
      "metadata": {
        "id": "U-HpdiFGXML9"
      },
      "execution_count": null,
      "outputs": []
    },
    {
      "cell_type": "code",
      "source": [
        "x,y,z = 1,2,3"
      ],
      "metadata": {
        "id": "-kHr4ORmXMPb"
      },
      "execution_count": null,
      "outputs": []
    },
    {
      "cell_type": "code",
      "source": [
        "a,b = 10,20\n",
        "c = a+b\n",
        "c"
      ],
      "metadata": {
        "colab": {
          "base_uri": "https://localhost:8080/"
        },
        "id": "78r5vSH_XMSo",
        "outputId": "369d8688-96b3-44a8-da52-47e236c91d43"
      },
      "execution_count": null,
      "outputs": [
        {
          "output_type": "execute_result",
          "data": {
            "text/plain": [
              "30"
            ]
          },
          "metadata": {},
          "execution_count": 17
        }
      ]
    },
    {
      "cell_type": "code",
      "source": [
        "# prompt: i want to learn about datatypes and variables in python\n",
        "\n",
        "This section of your code demonstrates the fundamental concepts of data types and variables in Python.\n",
        "\n",
        "**Data Types:**\n",
        "\n",
        "Python has several built-in data types. The code you provided highlights three of the most common ones:\n",
        "\n",
        "*   **`int` (Integer):** Represents whole numbers, positive or negative, without decimal points. Examples from your code include `60`, `30`, `10`, `1`, `2`, `3`, `10`, `20`.\n",
        "*   **`float` (Floating-point number):** Represents numbers with decimal points. While not explicitly shown with variables in your provided snippet, the comments mention `-0.1`, `0.01`, `10.3` as examples.\n",
        "*   **`str` (String):** Represents sequences of characters. This can be a single character, a word, a sentence, or even empty spaces and symbols. Strings are enclosed in either single quotes (`'`) or double quotes (`\"`). Your comments provide examples like `\"a\"`, `'a'`, `\"bus\"`, `\"im in a bus\"`, `\" \"`, `\"#\"` , `\"@\"`.\n",
        "\n",
        "**Variables:**\n",
        "\n",
        "Variables are used to store data values. In Python, you don't need to declare the type of a variable explicitly; the type is determined by the value assigned to it. The assignment operator `=` is used to assign a value to a variable.\n",
        "\n",
        "In your code:\n",
        "\n",
        "*   `virat = 60`: Creates a variable named `virat` and assigns the integer value `60` to it.\n",
        "*   `rohit = 30`: Creates a variable named `rohit` and assigns the integer value `30` to it.\n",
        "*   `rahul = 10`: Creates a variable named `rahul` and assigns the integer value `10` to it.\n",
        "*   `virat + rohit + rahul`: This is an expression that adds the values stored in the `virat`, `rohit`, and `rahul` variables. Python will calculate the sum (60 + 30 + 10 = 100).\n",
        "*   `x = 1`, `y = 2`, `z = 3`: Demonstrates assigning integer values to individual variables.\n",
        "*   `x, y, z = 1, 2, 3`: This is an example of **multiple assignment**, where you can assign multiple values to multiple variables on a single line.\n",
        "*   `a, b = 10, 20`: Another example of multiple assignment.\n",
        "*   `c = a + b`: Creates a variable `c` and assigns the sum of the values in `a` and `b` to it (10 + 20 = 30).\n",
        "*   `c`: This line will display the current value stored in the variable `c`, which is `30`.\n",
        "\n",
        "In a Jupyter or Colab notebook, simply typing a variable name on a line by itself will display its value as the output of that cell.\n",
        "\n",
        "To summarize, your code demonstrates how to assign different types of values (specifically integers in this case) to variables and how to perform simple operations (like addition) using these variables."
      ],
      "metadata": {
        "id": "CLAf_dP-XMVe"
      },
      "execution_count": null,
      "outputs": []
    }
  ]
}