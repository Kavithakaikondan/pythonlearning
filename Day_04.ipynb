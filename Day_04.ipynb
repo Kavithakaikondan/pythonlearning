{
  "nbformat": 4,
  "nbformat_minor": 0,
  "metadata": {
    "colab": {
      "provenance": [],
      "authorship_tag": "ABX9TyMmB+9adhY8XPrGRPtckfuf",
      "include_colab_link": true
    },
    "kernelspec": {
      "name": "python3",
      "display_name": "Python 3"
    },
    "language_info": {
      "name": "python"
    }
  },
  "cells": [
    {
      "cell_type": "markdown",
      "metadata": {
        "id": "view-in-github",
        "colab_type": "text"
      },
      "source": [
        "<a href=\"https://colab.research.google.com/github/Kavithakaikondan/pythonlearning/blob/main/Day_04.ipynb\" target=\"_parent\"><img src=\"https://colab.research.google.com/assets/colab-badge.svg\" alt=\"Open In Colab\"/></a>"
      ]
    },
    {
      "cell_type": "code",
      "execution_count": null,
      "metadata": {
        "id": "ClLr3sh_f7zZ"
      },
      "outputs": [],
      "source": [
        "# for range(start, end) - keywords\n",
        "# by default start = 0, range(20) => means 0 to 20"
      ]
    },
    {
      "cell_type": "code",
      "source": [
        "# for i in range(100):\n",
        "#   print(i)"
      ],
      "metadata": {
        "id": "Lr7Sj0wDgzKN"
      },
      "execution_count": 3,
      "outputs": []
    },
    {
      "cell_type": "code",
      "source": [
        "# Mulitpe of 10\n",
        "# n/10 => will get remainder 0"
      ],
      "metadata": {
        "id": "G4ddkiJOgzQ9"
      },
      "execution_count": null,
      "outputs": []
    },
    {
      "cell_type": "code",
      "source": [
        "num = 62\n",
        "if(num%10) == 0:\n",
        "  print(num)\n",
        "else:\n",
        "  print(\" \")"
      ],
      "metadata": {
        "colab": {
          "base_uri": "https://localhost:8080/"
        },
        "id": "Cu_AMhd5gzUD",
        "outputId": "8df8bd7b-e7b1-4cc7-d21e-7c92b0c5f8d8"
      },
      "execution_count": 5,
      "outputs": [
        {
          "output_type": "stream",
          "name": "stdout",
          "text": [
            " \n"
          ]
        }
      ]
    },
    {
      "cell_type": "code",
      "source": [
        "for i in range(100):\n",
        "  if (i%10) == 0:\n",
        "    print(\"divisible\", i)\n",
        "  else:\n",
        "    print(\"not divisible\", i)"
      ],
      "metadata": {
        "colab": {
          "base_uri": "https://localhost:8080/"
        },
        "id": "hCVxOaXYgzXG",
        "outputId": "95259f0d-1fe6-4887-d035-d51b5e5bc104"
      },
      "execution_count": 7,
      "outputs": [
        {
          "output_type": "stream",
          "name": "stdout",
          "text": [
            "divisible 0\n",
            "not divisible 1\n",
            "not divisible 2\n",
            "not divisible 3\n",
            "not divisible 4\n",
            "not divisible 5\n",
            "not divisible 6\n",
            "not divisible 7\n",
            "not divisible 8\n",
            "not divisible 9\n",
            "divisible 10\n",
            "not divisible 11\n",
            "not divisible 12\n",
            "not divisible 13\n",
            "not divisible 14\n",
            "not divisible 15\n",
            "not divisible 16\n",
            "not divisible 17\n",
            "not divisible 18\n",
            "not divisible 19\n",
            "divisible 20\n",
            "not divisible 21\n",
            "not divisible 22\n",
            "not divisible 23\n",
            "not divisible 24\n",
            "not divisible 25\n",
            "not divisible 26\n",
            "not divisible 27\n",
            "not divisible 28\n",
            "not divisible 29\n",
            "divisible 30\n",
            "not divisible 31\n",
            "not divisible 32\n",
            "not divisible 33\n",
            "not divisible 34\n",
            "not divisible 35\n",
            "not divisible 36\n",
            "not divisible 37\n",
            "not divisible 38\n",
            "not divisible 39\n",
            "divisible 40\n",
            "not divisible 41\n",
            "not divisible 42\n",
            "not divisible 43\n",
            "not divisible 44\n",
            "not divisible 45\n",
            "not divisible 46\n",
            "not divisible 47\n",
            "not divisible 48\n",
            "not divisible 49\n",
            "divisible 50\n",
            "not divisible 51\n",
            "not divisible 52\n",
            "not divisible 53\n",
            "not divisible 54\n",
            "not divisible 55\n",
            "not divisible 56\n",
            "not divisible 57\n",
            "not divisible 58\n",
            "not divisible 59\n",
            "divisible 60\n",
            "not divisible 61\n",
            "not divisible 62\n",
            "not divisible 63\n",
            "not divisible 64\n",
            "not divisible 65\n",
            "not divisible 66\n",
            "not divisible 67\n",
            "not divisible 68\n",
            "not divisible 69\n",
            "divisible 70\n",
            "not divisible 71\n",
            "not divisible 72\n",
            "not divisible 73\n",
            "not divisible 74\n",
            "not divisible 75\n",
            "not divisible 76\n",
            "not divisible 77\n",
            "not divisible 78\n",
            "not divisible 79\n",
            "divisible 80\n",
            "not divisible 81\n",
            "not divisible 82\n",
            "not divisible 83\n",
            "not divisible 84\n",
            "not divisible 85\n",
            "not divisible 86\n",
            "not divisible 87\n",
            "not divisible 88\n",
            "not divisible 89\n",
            "divisible 90\n",
            "not divisible 91\n",
            "not divisible 92\n",
            "not divisible 93\n",
            "not divisible 94\n",
            "not divisible 95\n",
            "not divisible 96\n",
            "not divisible 97\n",
            "not divisible 98\n",
            "not divisible 99\n"
          ]
        }
      ]
    },
    {
      "cell_type": "code",
      "source": [],
      "metadata": {
        "id": "NJKFsvScgzaZ"
      },
      "execution_count": null,
      "outputs": []
    },
    {
      "cell_type": "code",
      "source": [],
      "metadata": {
        "id": "ubNHVFcUgzdy"
      },
      "execution_count": null,
      "outputs": []
    },
    {
      "cell_type": "markdown",
      "metadata": {
        "id": "a8f10fd5"
      },
      "source": [
        "Both `for` and `while` loops are used for iteration in Python, but they are typically used in different scenarios.\n",
        "\n",
        "*   A **`for` loop** is used when you know the number of times you want to iterate or when you are iterating over a sequence (like a list, tuple, string, or range).\n",
        "\n",
        "*   A **`while` loop** is used when you want to repeat a block of code as long as a certain condition is true. You don't necessarily know in advance how many times the loop will run."
      ]
    },
    {
      "cell_type": "code",
      "metadata": {
        "colab": {
          "base_uri": "https://localhost:8080/"
        },
        "id": "bb65e928",
        "outputId": "6a77cc3f-f323-4c17-c299-1ab1be5e23e2"
      },
      "source": [
        "# Example of a for loop:\n",
        "print(\"For loop example:\")\n",
        "for i in range(5):\n",
        "  print(i)"
      ],
      "execution_count": 8,
      "outputs": [
        {
          "output_type": "stream",
          "name": "stdout",
          "text": [
            "For loop example:\n",
            "0\n",
            "1\n",
            "2\n",
            "3\n",
            "4\n"
          ]
        }
      ]
    },
    {
      "cell_type": "code",
      "metadata": {
        "colab": {
          "base_uri": "https://localhost:8080/"
        },
        "id": "92646e4d",
        "outputId": "9b2d6f2f-8df5-4118-b857-1ae47afe0849"
      },
      "source": [
        "# Example of a while loop:\n",
        "print(\"\\nWhile loop example:\")\n",
        "count = 0\n",
        "while count < 5:\n",
        "  print(count)\n",
        "  count += 1"
      ],
      "execution_count": 9,
      "outputs": [
        {
          "output_type": "stream",
          "name": "stdout",
          "text": [
            "\n",
            "While loop example:\n",
            "0\n",
            "1\n",
            "2\n",
            "3\n",
            "4\n"
          ]
        }
      ]
    }
  ]
}